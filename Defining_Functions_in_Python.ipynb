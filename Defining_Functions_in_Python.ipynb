{
  "nbformat": 4,
  "nbformat_minor": 0,
  "metadata": {
    "colab": {
      "provenance": [],
      "include_colab_link": true
    },
    "kernelspec": {
      "name": "python3",
      "display_name": "Python 3"
    },
    "language_info": {
      "name": "python"
    }
  },
  "cells": [
    {
      "cell_type": "markdown",
      "metadata": {
        "id": "view-in-github",
        "colab_type": "text"
      },
      "source": [
        "<a href=\"https://colab.research.google.com/github/chelishapullen/SQL/blob/main/Defining_Functions_in_Python.ipynb\" target=\"_parent\"><img src=\"https://colab.research.google.com/assets/colab-badge.svg\" alt=\"Open In Colab\"/></a>"
      ]
    },
    {
      "cell_type": "markdown",
      "source": [
        "# Functions in Python - Colab Notebook"
      ],
      "metadata": {
        "id": "wmRXbPeivc_8"
      }
    },
    {
      "cell_type": "markdown",
      "source": [
        "#### Introduction to Functions\n",
        "\n",
        "A function is a block of code that performs a specified task. Functions help organize your code and make it more readable, maintainable, and reusable.\n"
      ],
      "metadata": {
        "id": "olALzo-Rvkz9"
      }
    },
    {
      "cell_type": "markdown",
      "source": [
        "## Table of Contents\n",
        "\n",
        "1. Why Use Functions?\n",
        "2. Types of Functions\n",
        "    - Nothing goes in, nothing comes out.\n",
        "    - Nothing goes in, something comes out.\n",
        "    - Something goes in, nothing comes out.\n",
        "    - Something goes in, something comes out.\n",
        "3. Interesting Examples and Use Cases\n",
        "4. Try It Yourself\n",
        "5. Exercises"
      ],
      "metadata": {
        "id": "Wx49-tx5vo2M"
      }
    },
    {
      "cell_type": "markdown",
      "source": [
        "## Why Use Functions?\n",
        "\n",
        "- **Readability**: Functions make a program easier to read and understand.\n",
        "- **Reduction in Code Duplication**: Functions reduce code duplication.\n",
        "- **Reusability**: Functions allow the code to be reused.\n",
        "\n",
        "Most of the time, we provide some arguments to a function, and it returns something. However, this may not always be the case. When writing a function, we need to decide if the function needs any arguments or not, and if the function needs to return something or not.\n",
        "\n",
        "\n"
      ],
      "metadata": {
        "id": "BnsvOanvvr74"
      }
    },
    {
      "cell_type": "markdown",
      "source": [
        "## Syntax of Functions\n",
        "\n",
        "The basic syntax for defining a function in Python is as follows:\n",
        "\n"
      ],
      "metadata": {
        "id": "y01qnTnOwm0h"
      }
    },
    {
      "cell_type": "code",
      "source": [
        "def function_name(parameters):\n",
        "    \"\"\"\n",
        "    Optional: Docstring to describe the function.\n",
        "    \"\"\"\n",
        "    # Code block\n",
        "    return result  # Optional: return statement\n"
      ],
      "metadata": {
        "id": "VYpcBUZowjbT"
      },
      "execution_count": null,
      "outputs": []
    },
    {
      "cell_type": "markdown",
      "source": [
        "* `def`: This keyword is used to declare a function.\n",
        "* `function_name`: This is the name of the function. It should be descriptive and follow standard naming conventions.\n",
        "* `parameters`: These are the inputs to the function. They are optional and can be zero or more.\n",
        "* `\"\"\"Docstring\"\"\"`: This is an optional string to describe what the function does.\n",
        "* `return`: This is an optional statement to return a value from the function.\n",
        "\n",
        "### Example: Write a function that echoes the input that it takes."
      ],
      "metadata": {
        "id": "P7cLCXPlwpfQ"
      }
    },
    {
      "cell_type": "code",
      "source": [
        "# we use the def keyword\n",
        "# then write the function name\n",
        "# then define the function inputs\n",
        "def echo(user_input):\n",
        "\n",
        "  # this will print whatever is sent to this function\n",
        "  print(user_input)"
      ],
      "metadata": {
        "id": "JhVskJ7KxQmu"
      },
      "execution_count": 1,
      "outputs": []
    },
    {
      "cell_type": "code",
      "source": [
        "echo('Hello World')"
      ],
      "metadata": {
        "colab": {
          "base_uri": "https://localhost:8080/"
        },
        "id": "0jSrKVppxlEX",
        "outputId": "93be2855-1eb7-443e-a2e9-e6d4de2acead"
      },
      "execution_count": 2,
      "outputs": [
        {
          "output_type": "stream",
          "name": "stdout",
          "text": [
            "Hello World\n"
          ]
        }
      ]
    },
    {
      "cell_type": "code",
      "source": [
        "echo('An apple a day keeps anyone away, if you throw it hard enough.')"
      ],
      "metadata": {
        "colab": {
          "base_uri": "https://localhost:8080/"
        },
        "id": "MN7k55CExqCm",
        "outputId": "43bf314b-99d0-4414-cdb0-22ab6252bb41"
      },
      "execution_count": 3,
      "outputs": [
        {
          "output_type": "stream",
          "name": "stdout",
          "text": [
            "An apple a day keeps anyone away, if you throw it hard enough.\n"
          ]
        }
      ]
    },
    {
      "cell_type": "markdown",
      "source": [
        "Broadly, we can classify the combination of function parameters and their return types as follows:"
      ],
      "metadata": {
        "id": "cb0P2ZMMworX"
      }
    },
    {
      "cell_type": "markdown",
      "source": [
        "### Types of Functions\n",
        "\n",
        "#### 1. Nothing Goes In, Nothing Comes Out\n",
        "\n",
        "This type of function neither takes any input nor returns any output.\n",
        "\n",
        "**Example:**"
      ],
      "metadata": {
        "id": "8zfFMlgZvvHF"
      }
    },
    {
      "cell_type": "code",
      "source": [
        "def greet():\n",
        "    print(\"Hello, world!\")\n",
        "\n",
        "# Calling the function\n",
        "greet()"
      ],
      "metadata": {
        "id": "vKS-vIvtv4Sd",
        "outputId": "e5f07dbe-dfb6-43f3-d297-12e7959751f8",
        "colab": {
          "base_uri": "https://localhost:8080/"
        }
      },
      "execution_count": 4,
      "outputs": [
        {
          "output_type": "stream",
          "name": "stdout",
          "text": [
            "Hello, world!\n"
          ]
        }
      ]
    },
    {
      "cell_type": "markdown",
      "source": [
        "**Explanation:**\n",
        "- The `greet` function does not take any arguments and does not return anything. It simply prints a message."
      ],
      "metadata": {
        "id": "rTPTRtamyfDH"
      }
    },
    {
      "cell_type": "markdown",
      "source": [
        "#### 2. Nothing Goes In, Something Comes Out\n",
        "\n",
        "This type of function does not take any input but returns an output.\n",
        "\n",
        "**Example:**"
      ],
      "metadata": {
        "id": "EUHL5_W-yiBI"
      }
    },
    {
      "cell_type": "code",
      "source": [
        "def get_pi():\n",
        "    return 3.14159\n",
        "\n",
        "# Calling the function and storing the return value in a variable\n",
        "pi_value = get_pi()\n",
        "print(f\"Value of Pi: {pi_value}\")"
      ],
      "metadata": {
        "id": "iEOMOnrgyl_l",
        "outputId": "eb821dcf-4bee-417b-8a60-611374c79e51",
        "colab": {
          "base_uri": "https://localhost:8080/"
        }
      },
      "execution_count": 5,
      "outputs": [
        {
          "output_type": "stream",
          "name": "stdout",
          "text": [
            "Value of Pi: 3.14159\n"
          ]
        }
      ]
    },
    {
      "cell_type": "markdown",
      "source": [
        "**Explanation:**\n",
        "- The `get_pi` function does not take any arguments but returns the value of Pi."
      ],
      "metadata": {
        "id": "QkxlLLhuyqFu"
      }
    },
    {
      "cell_type": "markdown",
      "source": [
        "#### 3. Something Goes In, Nothing Comes Out\n",
        "\n",
        "This type of function takes input but does not return any output.\n",
        "\n",
        "**Example:**"
      ],
      "metadata": {
        "id": "LzhX27zVytOZ"
      }
    },
    {
      "cell_type": "code",
      "source": [
        "def greet_person(name):\n",
        "    print(f\"Hello, {name}!\")\n",
        "\n",
        "# Calling the function with an argument\n",
        "greet_person(\"Alice\")"
      ],
      "metadata": {
        "id": "iUnV9tDcyvMG",
        "outputId": "8000fef8-a479-48be-ef85-2e91ab2e8635",
        "colab": {
          "base_uri": "https://localhost:8080/"
        }
      },
      "execution_count": 6,
      "outputs": [
        {
          "output_type": "stream",
          "name": "stdout",
          "text": [
            "Hello, Alice!\n"
          ]
        }
      ]
    },
    {
      "cell_type": "markdown",
      "source": [
        "**Explanation:**\n",
        "- The `greet_person` function takes a `name` as an argument and prints a personalized greeting message."
      ],
      "metadata": {
        "id": "Y_i83OCByxqf"
      }
    },
    {
      "cell_type": "markdown",
      "source": [
        "#### 4. Something Goes In, Something Comes Out\n",
        "\n",
        "This type of function takes input and returns an output.\n",
        "\n",
        "**Example:**"
      ],
      "metadata": {
        "id": "R-glLTaDyzp5"
      }
    },
    {
      "cell_type": "code",
      "source": [
        "def add_numbers(a, b):\n",
        "    return a + b\n",
        "\n",
        "# Calling the function with arguments and storing the return value in a variable\n",
        "sum_result = add_numbers(5, 3)\n",
        "print(f\"Sum: {sum_result}\")"
      ],
      "metadata": {
        "id": "WhaT-DWWy19h",
        "outputId": "77e9a53d-56a2-42db-e936-13c768c43447",
        "colab": {
          "base_uri": "https://localhost:8080/"
        }
      },
      "execution_count": 7,
      "outputs": [
        {
          "output_type": "stream",
          "name": "stdout",
          "text": [
            "Sum: 8\n"
          ]
        }
      ]
    },
    {
      "cell_type": "markdown",
      "source": [
        "**Explanation:**\n",
        "- The `add_numbers` function takes two arguments, `a` and `b`, and returns their sum.\n"
      ],
      "metadata": {
        "id": "NFXu6Aph0IpA"
      }
    },
    {
      "cell_type": "markdown",
      "source": [
        "### Interesting Examples and Use Cases\n",
        "\n",
        "**Example: Calculating the Area of a Circle**\n",
        "You want to create a function that calculates the area of a circle given its radius."
      ],
      "metadata": {
        "id": "7hpaAEyt0Jt7"
      }
    },
    {
      "cell_type": "code",
      "source": [
        "def calculate_area(radius):\n",
        "    pi = 3.14159\n",
        "    return pi * (radius ** 2)\n",
        "\n",
        "# Calling the function with an argument and printing the result\n",
        "area = calculate_area(5)\n",
        "print(f\"Area of the circle: {area}\")"
      ],
      "metadata": {
        "id": "AJGGes0P0Omh",
        "outputId": "80926ed3-686e-478f-dc08-d393cc1fa29c",
        "colab": {
          "base_uri": "https://localhost:8080/"
        }
      },
      "execution_count": 8,
      "outputs": [
        {
          "output_type": "stream",
          "name": "stdout",
          "text": [
            "Area of the circle: 78.53975\n"
          ]
        }
      ]
    },
    {
      "cell_type": "markdown",
      "source": [
        "### Try It Yourself\n",
        "\n",
        "**Example: Calculating the Average of a List**\n",
        "\n",
        "You want to create a function that calculates the average of a list of numbers.\n"
      ],
      "metadata": {
        "id": "LUZzo9Dz0Zc5"
      }
    },
    {
      "cell_type": "code",
      "source": [
        "def calculate_average(numbers):\n",
        "    # Remove this pass line when you are done writing the function\n",
        "    pass\n",
        "    #### Write your function here\n",
        "\n",
        "\n",
        "    #### your function ends here\n",
        "\n",
        "# Output expected: 30\n",
        "my_numbers = [10, 20, 30, 40, 50]\n",
        "average = calculate_average(my_numbers)\n",
        "print(f\"Average: {average}\")\n",
        "\n",
        "# Output expected: 25\n",
        "your_numbers = [5, 15, 25, 35, 45]\n",
        "your_average = calculate_average(your_numbers)\n",
        "print(f\"Your average: {your_average}\")"
      ],
      "metadata": {
        "colab": {
          "base_uri": "https://localhost:8080/"
        },
        "id": "5bbok87N0e4w",
        "outputId": "3e0fce98-fbf1-46fd-b737-8261625a6b90"
      },
      "execution_count": 9,
      "outputs": [
        {
          "output_type": "stream",
          "name": "stdout",
          "text": [
            "Average: None\n",
            "Your average: None\n"
          ]
        }
      ]
    },
    {
      "cell_type": "markdown",
      "source": [
        "### Exercises\n",
        "\n",
        "**Exercise 1: Convert Temperature**\n",
        "Write a function that converts a temperature from Celsius to Fahrenheit."
      ],
      "metadata": {
        "id": "fxKDpXrE1IBv"
      }
    },
    {
      "cell_type": "code",
      "source": [
        "def celsius_to_fahrenheit(celsius):\n",
        "    \"\"\"\n",
        "    Convert Celsius to Fahrenheit.\n",
        "\n",
        "    Parameters:\n",
        "    celsius (float): Temperature in degrees Celsius.\n",
        "\n",
        "    Returns:\n",
        "    float: Temperature in degrees Fahrenheit.\n",
        "    \"\"\"\n",
        "    fahrenheit = (celsius * 9/5) + 32\n",
        "    return fahrenheit"
      ],
      "metadata": {
        "id": "-JhoFufdHcq6"
      },
      "execution_count": 10,
      "outputs": []
    },
    {
      "cell_type": "code",
      "source": [
        "def celsius_to_fahrenheit(celsius):\n",
        "    # Remove this pass line when you are done writing the function\n",
        "    pass\n",
        "    #### Write your function here\n",
        "\n",
        "\n",
        "    #### your function ends here\n",
        "\n",
        " # Test the function\n",
        "temp_fahrenheit = celsius_to_fahrenheit(25)\n",
        "print(f\"Temperature in Fahrenheit: {temp_fahrenheit}\")"
      ],
      "metadata": {
        "id": "jJjZk6CV1HFp",
        "outputId": "6085f6fd-ab08-48c0-d499-52ca888fbae2",
        "colab": {
          "base_uri": "https://localhost:8080/"
        }
      },
      "execution_count": 11,
      "outputs": [
        {
          "output_type": "stream",
          "name": "stdout",
          "text": [
            "Temperature in Fahrenheit: None\n"
          ]
        }
      ]
    },
    {
      "cell_type": "markdown",
      "source": [
        "**Exercise 2: Check Even or Odd**\n",
        "Write a function that checks whether a given number is even or odd.\n",
        "\n",
        "Function name should be `is_even` and it should take a number as input.  "
      ],
      "metadata": {
        "id": "rDTBHI1s1UBU"
      }
    },
    {
      "cell_type": "code",
      "source": [
        "def is_even_or_odd(number):\n",
        "    \"\"\"\n",
        "    Check whether a number is even or odd.\n",
        "\n",
        "    Parameters:\n",
        "    number (int): The number to check.\n",
        "\n",
        "    Returns:\n",
        "    str: \"Even\" if the number is even, \"Odd\" if the number is odd.\n",
        "    \"\"\"\n",
        "    if number % 2 == 0:\n",
        "        return \"Even\"\n",
        "    else:\n",
        "        return \"Odd\""
      ],
      "metadata": {
        "id": "kvApLivg1fgr"
      },
      "execution_count": 12,
      "outputs": []
    },
    {
      "cell_type": "markdown",
      "source": [
        "**Exercise 3: Find Maximum**\n",
        "Write a function that returns the maximum of two numbers.\n"
      ],
      "metadata": {
        "id": "_KpaHU1O1lNS"
      }
    },
    {
      "cell_type": "code",
      "source": [
        "def max_of_two(a, b):\n",
        "    \"\"\"\n",
        "    Return the maximum of two numbers.\n",
        "\n",
        "    Parameters:\n",
        "    a (float or int): First number.\n",
        "    b (float or int): Second number.\n",
        "\n",
        "    Returns:\n",
        "    float or int: The greater of the two numbers.\n",
        "    \"\"\"\n",
        ""
      ],
      "metadata": {
        "id": "xjTXuQuJIyeD"
      },
      "execution_count": 14,
      "outputs": []
    },
    {
      "cell_type": "code",
      "source": [
        "def max_of_two(a, b):\n",
        "    \"\"\"\n",
        "    Return the maximum of two numbers.\n",
        "\n",
        "    Parameters:\n",
        "    a (float or int): First number.\n",
        "    b (float or int): Second number.\n",
        "\n",
        "    Returns:\n",
        "    float or int: The greater of the two numbers.\n",
        "    \"\"\"\n",
        "    if a > b:\n",
        "        return a\n",
        "    else:\n",
        "        return b"
      ],
      "metadata": {
        "id": "NvN6SF7c1kZ_"
      },
      "execution_count": 13,
      "outputs": []
    },
    {
      "cell_type": "markdown",
      "source": [
        "**Exercise 4: Calculate Factorial**\n",
        "Write a function that calculates the factorial of a given number."
      ],
      "metadata": {
        "id": "YjtD8wKS1oPD"
      }
    },
    {
      "cell_type": "code",
      "source": [
        "def factorial(n):\n",
        "    \"\"\"\n",
        "    Calculate the factorial of a given non-negative integer.\n",
        "\n",
        "    Parameters:\n",
        "    n (int): A non-negative integer.\n",
        "\n",
        "    Returns:\n",
        "    int: The factorial of n.\n",
        "\n",
        "    Raises:\n",
        "    ValueError: If n is negative.\n",
        "    \"\"\"\n",
        "    if n < 0:\n",
        "        raise ValueError(\"Factorial is not defined for negative numbers.\")\n",
        "    if n == 0 or n == 1:\n",
        "        return 1\n",
        "    return n * factorial(n - 1)"
      ],
      "metadata": {
        "id": "fNOTM5kM1uZz"
      },
      "execution_count": 15,
      "outputs": []
    },
    {
      "cell_type": "markdown",
      "source": [
        "\n",
        "**Exercise 5: Reverse a String**\n",
        "Write a function that reverses a given string."
      ],
      "metadata": {
        "id": "HBsd03f61utQ"
      }
    },
    {
      "cell_type": "code",
      "source": [
        "def reverse_string(s):\n",
        "    \"\"\"\n",
        "    Reverse a given string.\n",
        "\n",
        "    Parameters:\n",
        "    s (str): The string to reverse.\n",
        "\n",
        "    Returns:\n",
        "    str: The reversed string.\n",
        "    \"\"\"\n",
        "    return s[::-1]"
      ],
      "metadata": {
        "id": "ImTn1U1K1wBo"
      },
      "execution_count": 16,
      "outputs": []
    },
    {
      "cell_type": "markdown",
      "source": [
        "**Exercise 6: Count Vowels in a String**\n",
        "Write a function that counts the number of vowels in a given string."
      ],
      "metadata": {
        "id": "7HfhAsB51wp2"
      }
    },
    {
      "cell_type": "code",
      "source": [
        "def count_vowels(s):\n",
        "    \"\"\"\n",
        "    Count the number of vowels in a given string.\n",
        "\n",
        "    Parameters:\n",
        "    s (str): The input string.\n",
        "\n",
        "    Returns:\n",
        "    int: The number of vowels in the string.\n",
        "    \"\"\"\n",
        "    vowels = \"aeiouAEIOU\"\n",
        "    count = 0\n",
        "    for char in s:\n",
        "        if char in vowels:\n",
        "            count += 1\n",
        "    return count"
      ],
      "metadata": {
        "id": "HMvikNJB11Av"
      },
      "execution_count": 17,
      "outputs": []
    },
    {
      "cell_type": "markdown",
      "source": [
        "### Conclusion\n",
        "\n",
        "Functions are an essential part of programming in Python. They help you organize your code, reduce duplication, and make your programs more modular and easier to understand. Practice creating and using functions to enhance your programming skills and make your code more efficient."
      ],
      "metadata": {
        "id": "RdPy4_Vivg-p"
      }
    }
  ]
}